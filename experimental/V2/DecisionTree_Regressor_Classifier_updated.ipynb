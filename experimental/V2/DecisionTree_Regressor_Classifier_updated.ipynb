{
 "cells": [
  {
   "cell_type": "code",
   "execution_count": 1,
   "metadata": {},
   "outputs": [],
   "source": [
    "from sklearn.linear_model import LinearRegression\n",
    "import numpy as np\n",
    "import pandas as pd\n",
    "from sklearn.metrics import mean_squared_error\n",
    "from sklearn import tree\n",
    "from sklearn.preprocessing import StandardScaler, MinMaxScaler"
   ]
  },
  {
   "cell_type": "code",
   "execution_count": 6,
   "metadata": {},
   "outputs": [],
   "source": [
    "from sklearn.model_selection import train_test_split\n",
    "\n",
    "mappings = {}\n",
    "def freq_encode(ser):\n",
    "  assert ser.name, \"Column name is empty, please ensure column names are populated.\"\n",
    "\n",
    "  mapping = ser.value_counts(normalize=True)\n",
    "  mappings[ser.name] = lambda x: x.map(mapping.to_dict())\n",
    "\n",
    "  return ser.map(mapping)\n",
    "\n",
    "cat_cols = ['Alcohol', 'NoiseLevel', 'RestaurantsAttire', 'RestaurantsPriceRange2', 'WiFi']\n",
    "#df_ = pd.read_csv(\"/home/vamshi/PycharmProjects/YelpChallenge/yelp_dataset/businesses_withOtherBusinesses_withCluster_Regional.csv\")\n",
    "\n",
    "df_ = pd.read_csv(\"/home/vamshi/PycharmProjects/YelpChallenge/yelp_dataset/businesses_withOtherBusinesses_withCluster_Svd.csv\")\n",
    "\n",
    "df_.drop(['business_id', 'categories'], axis=1, inplace=True)\n",
    "df_[cat_cols] = df_[cat_cols].apply(freq_encode)\n",
    "\n",
    "y = MinMaxScaler((1, 8)).fit_transform(df_.pop('rating')[:, None])\n",
    "X = df_.values\n",
    "\n",
    "X_train, X_test, y_train, y_test = train_test_split(\n",
    "    X, y, test_size=0.1, random_state=42)\n",
    "\n",
    "X_train[np.isnan(X_train)] = 0\n",
    "X_test[np.isnan(X_test)] = 0"
   ]
  },
  {
   "cell_type": "code",
   "execution_count": null,
   "metadata": {},
   "outputs": [],
   "source": []
  },
  {
   "cell_type": "code",
   "execution_count": 7,
   "metadata": {},
   "outputs": [
    {
     "name": "stdout",
     "output_type": "stream",
     "text": [
      "-0.5842445082996577\n",
      "0.8014996199392019\n"
     ]
    }
   ],
   "source": [
    "clf = tree.DecisionTreeRegressor()\n",
    "clf = clf.fit(X_train, y_train)\n",
    "\n",
    "print(clf.score(X_test, y_test))\n",
    "print(mean_squared_error(clf.predict(X_test), y_test))"
   ]
  },
  {
   "cell_type": "code",
   "execution_count": 26,
   "metadata": {},
   "outputs": [],
   "source": [
    "res_train = res_train.astype('int32')"
   ]
  },
  {
   "cell_type": "code",
   "execution_count": 27,
   "metadata": {},
   "outputs": [
    {
     "name": "stdout",
     "output_type": "stream",
     "text": [
      "-0.43578621400766715\n",
      "1.126165356172908\n"
     ]
    }
   ],
   "source": [
    "#Applying Decision Tree regression on the data\n",
    "clf_classifier = tree.DecisionTreeClassifier()\n",
    "clf_classifier = clf_classifier.fit(train_data, res_train)\n",
    "\n",
    "print(clf.score(testdata, res_test))\n",
    "print(mean_squared_error(clf_classifier.predict(testdata), res_test))"
   ]
  },
  {
   "cell_type": "code",
   "execution_count": null,
   "metadata": {},
   "outputs": [],
   "source": []
  }
 ],
 "metadata": {
  "kernelspec": {
   "display_name": "Python 2",
   "language": "python",
   "name": "python2"
  },
  "language_info": {
   "codemirror_mode": {
    "name": "ipython",
    "version": 2
   },
   "file_extension": ".py",
   "mimetype": "text/x-python",
   "name": "python",
   "nbconvert_exporter": "python",
   "pygments_lexer": "ipython2",
   "version": "2.7.15rc1"
  }
 },
 "nbformat": 4,
 "nbformat_minor": 2
}
