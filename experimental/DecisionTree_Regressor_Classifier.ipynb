{
 "cells": [
  {
   "cell_type": "code",
   "execution_count": 3,
   "metadata": {},
   "outputs": [],
   "source": [
    "from sklearn.linear_model import LinearRegression\n",
    "import numpy as np\n",
    "import pandas as pd\n",
    "from sklearn.metrics import mean_squared_error\n",
    "from sklearn import tree\n",
    "from sklearn.preprocessing import StandardScaler, MinMaxScaler"
   ]
  },
  {
   "cell_type": "code",
   "execution_count": 5,
   "metadata": {},
   "outputs": [],
   "source": [
    "#Load the Training Data\n",
    "train_df = pd.read_csv('C:/Users/revanth/Desktop/yelp_dataset/businesses_train.csv',low_memory=False)\n",
    "res_train = train_df['rating'].values\n",
    "trains_df = train_df.drop(['business_id', 'categories', 'rating', 'id'], axis=1)"
   ]
  },
  {
   "cell_type": "code",
   "execution_count": 7,
   "metadata": {},
   "outputs": [],
   "source": [
    "#Scale and fit the training data using standard scaler\n",
    "scalar = StandardScaler()\n",
    "train_data = trains_df.values\n",
    "train_data[np.isnan(train_data)] = 0\n",
    "train_data = scalar.fit_transform(train_data)\n",
    "res_train = (res_train-res_train.min())*6/(res_train.max()-res_train.min())"
   ]
  },
  {
   "cell_type": "code",
   "execution_count": 8,
   "metadata": {},
   "outputs": [
    {
     "name": "stdout",
     "output_type": "stream",
     "text": [
      "-0.9347839921263815\n",
      "0.9230259510795957\n"
     ]
    }
   ],
   "source": [
    "#Applying Decision Tree regression on the data\n",
    "clf = tree.DecisionTreeRegressor()\n",
    "clf = clf.fit(train_data, res_train)\n",
    "\n",
    "test_df = pd.read_csv('C:/Users/revanth/Desktop/yelp_dataset/businesses_test.csv')\n",
    "res_test = test_df['rating'].values\n",
    "test_df = test_df.drop(['business_id', 'categories', 'rating', 'id'], axis=1)\n",
    "testdata = test_df.values\n",
    "\n",
    "testdata[np.isnan(testdata)] = 0\n",
    "testdata = scalar.transform(testdata)\n",
    "res_test = (res_test-res_test.min())*6/(res_test.max()-res_test.min())\n",
    "\n",
    "print(clf.score(testdata, res_test))\n",
    "print(mean_squared_error(clf.predict(testdata), res_test))"
   ]
  },
  {
   "cell_type": "code",
   "execution_count": 9,
   "metadata": {},
   "outputs": [],
   "source": [
    "res_train = res_train.astype('int32')"
   ]
  },
  {
   "cell_type": "code",
   "execution_count": 10,
   "metadata": {},
   "outputs": [
    {
     "name": "stdout",
     "output_type": "stream",
     "text": [
      "-0.9347839921263815\n",
      "0.8723065579056292\n"
     ]
    }
   ],
   "source": [
    "#Applying Decision Tree regression on the data\n",
    "clf_classifier = tree.DecisionTreeClassifier()\n",
    "clf_classifier = clf_classifier.fit(train_data, res_train)\n",
    "\n",
    "print(clf.score(testdata, res_test))\n",
    "print(mean_squared_error(clf_classifier.predict(testdata), res_test))"
   ]
  },
  {
   "cell_type": "code",
   "execution_count": null,
   "metadata": {},
   "outputs": [],
   "source": []
  }
 ],
 "metadata": {
  "kernelspec": {
   "display_name": "Python 3",
   "language": "python",
   "name": "python3"
  },
  "language_info": {
   "codemirror_mode": {
    "name": "ipython",
    "version": 3
   },
   "file_extension": ".py",
   "mimetype": "text/x-python",
   "name": "python",
   "nbconvert_exporter": "python",
   "pygments_lexer": "ipython3",
   "version": "3.6.5"
  }
 },
 "nbformat": 4,
 "nbformat_minor": 2
}
