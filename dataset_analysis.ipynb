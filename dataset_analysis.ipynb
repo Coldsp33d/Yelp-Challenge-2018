{
 "cells": [
  {
   "cell_type": "code",
   "execution_count": 3,
   "metadata": {},
   "outputs": [
    {
     "data": {
      "text/plain": [
       "(113202, 15)"
      ]
     },
     "execution_count": 3,
     "metadata": {},
     "output_type": "execute_result"
    }
   ],
   "source": [
    "# Author: Vamshi Chenna - Week 1\n",
    "# Revised by: Shiva Deviah - Week 3\n",
    "import pandas as pd\n",
    "import re\n",
    "\n",
    "pattern = re.compile(r'Restaurant|Alcohol')\n",
    "def is_valid_attr(dct):\n",
    "    return any(pattern.match(k) for k in dct.keys())\n",
    "\n",
    "business_json_df = (pd.read_json('yelp_dataset/yelp_academic_dataset_business.json', lines=True)\n",
    "                      .dropna(subset=['attributes']))\n",
    "\n",
    "#Get the restuarant Data from the businesses\n",
    "mask = (business_json_df['attributes'].map(is_valid_attr) \n",
    "        | business_json_df['categories'].str.contains(r\"Food|Restaurant|Bar\", case=False) \n",
    "        | business_json_df['name'].str.contains(\"Restaurant|Cuisine\", case=False))\n",
    "business_json_df = business_json_df[mask]\n",
    "\n",
    "business_json_df.shape"
   ]
  },
  {
   "cell_type": "code",
   "execution_count": 6,
   "metadata": {},
   "outputs": [
    {
     "data": {
      "text/plain": [
       "AcceptsInsurance                2811\n",
       "AgesAllowed                      396\n",
       "Alcohol                        47892\n",
       "Ambience                       47569\n",
       "BYOB                             911\n",
       "BYOBCorkage                     1409\n",
       "BestNights                      6842\n",
       "BikeParking                    78905\n",
       "BusinessAcceptsBitcoin          7594\n",
       "BusinessAcceptsCreditCards    101443\n",
       "BusinessParking                96813\n",
       "ByAppointmentOnly              20214\n",
       "Caters                         40038\n",
       "CoatCheck                       8527\n",
       "Corkage                          657\n",
       "DietaryRestrictions              138\n",
       "DogsAllowed                    12490\n",
       "DriveThru                       6754\n",
       "GoodForDancing                  9158\n",
       "GoodForKids                    56618\n",
       "GoodForMeal                    47483\n",
       "HairSpecializesIn               1683\n",
       "HappyHour                       9279\n",
       "HasTV                          47527\n",
       "Music                           8803\n",
       "NoiseLevel                     43704\n",
       "Open24Hours                      350\n",
       "OutdoorSeating                 54168\n",
       "RestaurantsAttire              48182\n",
       "RestaurantsCounterService        397\n",
       "RestaurantsDelivery            51668\n",
       "RestaurantsGoodForGroups       53839\n",
       "RestaurantsPriceRange2        107120\n",
       "RestaurantsReservations        51363\n",
       "RestaurantsTableService        43325\n",
       "RestaurantsTakeOut             61206\n",
       "Smoking                         8103\n",
       "WheelchairAccessible           47525\n",
       "WiFi                           48562\n",
       "dtype: int64"
      ]
     },
     "execution_count": 6,
     "metadata": {},
     "output_type": "execute_result"
    }
   ],
   "source": [
    "attrDF = pd.DataFrame(business_json_df.attributes.dropna().tolist())\n",
    "#Gets the individual count for every attribute\n",
    "attrDF.count()"
   ]
  },
  {
   "cell_type": "code",
   "execution_count": 9,
   "metadata": {},
   "outputs": [
    {
     "data": {
      "text/plain": [
       "111767"
      ]
     },
     "execution_count": 9,
     "metadata": {},
     "output_type": "execute_result"
    }
   ],
   "source": [
    "#To Caliculate averages and attribute density,\n",
    "attrDensity = attrDF.count(axis=1)\n",
    "\n",
    "#Gets the number of business having attributes more than 1\n",
    "attrDensity[attrDensity>1].size"
   ]
  },
  {
   "cell_type": "code",
   "execution_count": 10,
   "metadata": {},
   "outputs": [
    {
     "data": {
      "text/plain": [
       "11.320171021713398"
      ]
     },
     "execution_count": 10,
     "metadata": {},
     "output_type": "execute_result"
    }
   ],
   "source": [
    "#Get the average of attributes per business\n",
    "\n",
    "#Avergage number of attributes per Resturant : 11.338933217616168\n",
    "#Resturants which have atlest one attribute : 112919\n",
    "#Restuarants having more than one attribute : 111549\n",
    "#Resturants having more than three attributes : 101870\n",
    "#Resturants having more than five attributes : 76988\n",
    "#Resturants having more than ten attributes : 50864\n",
    "\n",
    "attrDensity.mean()"
   ]
  },
  {
   "cell_type": "code",
   "execution_count": 13,
   "metadata": {},
   "outputs": [
    {
     "data": {
      "text/plain": [
       "0    6\n",
       "1    9\n",
       "2    5\n",
       "5    2\n",
       "6    2\n",
       "dtype: int64"
      ]
     },
     "execution_count": 13,
     "metadata": {},
     "output_type": "execute_result"
    }
   ],
   "source": [
    "#Categories-----------------------------------------------------------------------------------------\n",
    "categories = business_json_df.categories.dropna().str.split(r'\\s*,\\s*', expand=True)\n",
    "#Get the categories count per user\n",
    "catcount = categories.count(axis=1)\n",
    "\n",
    "catcount.head()"
   ]
  },
  {
   "cell_type": "code",
   "execution_count": 14,
   "metadata": {},
   "outputs": [
    {
     "data": {
      "text/plain": [
       "4.043264260151107"
      ]
     },
     "execution_count": 14,
     "metadata": {},
     "output_type": "execute_result"
    }
   ],
   "source": [
    "#Get the mean of the no of categories\n",
    "categories.count(axis=1).mean()"
   ]
  },
  {
   "cell_type": "code",
   "execution_count": 15,
   "metadata": {},
   "outputs": [
    {
     "data": {
      "text/plain": [
       "112649"
      ]
     },
     "execution_count": 15,
     "metadata": {},
     "output_type": "execute_result"
    }
   ],
   "source": [
    "#Gets the number of business having categories more than 1\n",
    "catcount[catcount>1].size"
   ]
  },
  {
   "cell_type": "code",
   "execution_count": 16,
   "metadata": {},
   "outputs": [
    {
     "data": {
      "text/plain": [
       "43.72633875726577"
      ]
     },
     "execution_count": 16,
     "metadata": {},
     "output_type": "execute_result"
    }
   ],
   "source": [
    "#Average category per resturant : 4.0274109643857541\n",
    "#Restuarants having atlest one category : 114954\n",
    "#Restuarants having more than one category : 114390\n",
    "#Restuarants having more than two categories : 82534\n",
    "\n",
    "#Shopping\t24503\n",
    "#Beauty & Spas\t15956\n",
    "#Nightlife\t12147\n",
    "#Bars\t10853\n",
    "#Coffee & Tea\t6936\n",
    "\n",
    "\n",
    "#Reviews-----------------------------------------------------------------------------------------\n",
    "\n",
    "#Average No of Reviews for a busineses : 43.107634782608699\n",
    "#Minimum no of reviews for a resturant : 3\n",
    "\n",
    "#Restuarants having atlest 10 reviews : 65719\n",
    "#Restuarants having more than 15 reviews : 52183\n",
    "#Restuarants having more than 20 reviews : 42111\n",
    "#Resturants having more than 25 reviews : 36274\n",
    "#Resturants having more than 30 reviews : 31881\n",
    "\n",
    "\n",
    "business_json_df.review_count.mean()"
   ]
  }
 ],
 "metadata": {
  "kernelspec": {
   "display_name": "Python 3",
   "language": "python",
   "name": "python3"
  },
  "language_info": {
   "codemirror_mode": {
    "name": "ipython",
    "version": 3
   },
   "file_extension": ".py",
   "mimetype": "text/x-python",
   "name": "python",
   "nbconvert_exporter": "python",
   "pygments_lexer": "ipython3",
   "version": "3.6.0"
  }
 },
 "nbformat": 4,
 "nbformat_minor": 2
}
