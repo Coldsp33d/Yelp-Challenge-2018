{
 "cells": [
  {
   "cell_type": "code",
   "execution_count": 22,
   "metadata": {},
   "outputs": [],
   "source": [
    "from sklearn.linear_model import LinearRegression\n",
    "import numpy as np\n",
    "import pandas as pd\n",
    "from sklearn.metrics import mean_squared_error\n",
    "from sklearn import tree\n",
    "from sklearn.preprocessing import StandardScaler, MinMaxScaler"
   ]
  },
  {
   "cell_type": "code",
   "execution_count": 23,
   "metadata": {},
   "outputs": [],
   "source": [
    "#Load the Training Data\n",
    "train_df = pd.read_csv('/home/vamshi/PycharmProjects/YelpChallenge/yelp_dataset/businesses_train.csv',low_memory=False)\n",
    "res_train = train_df['rating'].values\n",
    "trains_df = train_df.drop(['business_id', 'categories', 'rating'], axis=1)"
   ]
  },
  {
   "cell_type": "code",
   "execution_count": 24,
   "metadata": {},
   "outputs": [],
   "source": [
    "#Scale and fit the training data using standard scaler\n",
    "scalar = StandardScaler()\n",
    "train_data = trains_df.values\n",
    "train_data[np.isnan(train_data)] = 0\n",
    "train_data = scalar.fit_transform(train_data)\n",
    "res_train = (res_train-res_train.min())*6/(res_train.max()-res_train.min())"
   ]
  },
  {
   "cell_type": "code",
   "execution_count": 25,
   "metadata": {},
   "outputs": [
    {
     "name": "stdout",
     "output_type": "stream",
     "text": [
      "-0.43578621400766715\n",
      "0.7405975934076199\n"
     ]
    }
   ],
   "source": [
    "#Applying Decision Tree regression on the data\n",
    "clf = tree.DecisionTreeRegressor()\n",
    "clf = clf.fit(train_data, res_train)\n",
    "\n",
    "test_df = pd.read_csv('/home/vamshi/PycharmProjects/YelpChallenge/yelp_dataset/businesses_test.csv')\n",
    "res_test = test_df['rating'].values\n",
    "test_df = test_df.drop(['business_id', 'categories', 'rating'], axis=1)\n",
    "testdata = test_df.values\n",
    "\n",
    "testdata[np.isnan(testdata)] = 0\n",
    "testdata = scalar.transform(testdata)\n",
    "res_test = (res_test-res_test.min())*6/(res_test.max()-res_test.min())\n",
    "\n",
    "print(clf.score(testdata, res_test))\n",
    "print(mean_squared_error(clf.predict(testdata), res_test))"
   ]
  },
  {
   "cell_type": "code",
   "execution_count": 26,
   "metadata": {},
   "outputs": [],
   "source": [
    "res_train = res_train.astype('int32')"
   ]
  },
  {
   "cell_type": "code",
   "execution_count": 27,
   "metadata": {},
   "outputs": [
    {
     "name": "stdout",
     "output_type": "stream",
     "text": [
      "-0.43578621400766715\n",
      "1.126165356172908\n"
     ]
    }
   ],
   "source": [
    "#Applying Decision Tree regression on the data\n",
    "clf_classifier = tree.DecisionTreeClassifier()\n",
    "clf_classifier = clf_classifier.fit(train_data, res_train)\n",
    "\n",
    "print(clf.score(testdata, res_test))\n",
    "print(mean_squared_error(clf_classifier.predict(testdata), res_test))"
   ]
  },
  {
   "cell_type": "code",
   "execution_count": null,
   "metadata": {},
   "outputs": [],
   "source": []
  }
 ],
 "metadata": {
  "kernelspec": {
   "display_name": "Python 2",
   "language": "python",
   "name": "python2"
  },
  "language_info": {
   "codemirror_mode": {
    "name": "ipython",
    "version": 2
   },
   "file_extension": ".py",
   "mimetype": "text/x-python",
   "name": "python",
   "nbconvert_exporter": "python",
   "pygments_lexer": "ipython2",
   "version": "2.7.15rc1"
  }
 },
 "nbformat": 4,
 "nbformat_minor": 2
}
